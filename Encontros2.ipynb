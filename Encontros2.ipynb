{
 "cells": [
  {
   "cell_type": "code",
   "execution_count": 186,
   "id": "db8010fc-cf84-4036-9cf2-d905de619ac0",
   "metadata": {},
   "outputs": [],
   "source": [
    "import pandas as pd\n",
    "import numpy as np \n",
    "import matplotlib.pyplot as plt\n",
    "import seaborn as sns\n",
    "import plotly.express as px"
   ]
  },
  {
   "cell_type": "code",
   "execution_count": 187,
   "id": "42ac0c40-6c44-4757-a259-ff3ba19d7a7b",
   "metadata": {},
   "outputs": [
    {
     "data": {
      "text/html": [
       "<div>\n",
       "<style scoped>\n",
       "    .dataframe tbody tr th:only-of-type {\n",
       "        vertical-align: middle;\n",
       "    }\n",
       "\n",
       "    .dataframe tbody tr th {\n",
       "        vertical-align: top;\n",
       "    }\n",
       "\n",
       "    .dataframe thead th {\n",
       "        text-align: right;\n",
       "    }\n",
       "</style>\n",
       "<table border=\"1\" class=\"dataframe\">\n",
       "  <thead>\n",
       "    <tr style=\"text-align: right;\">\n",
       "      <th></th>\n",
       "      <th>tempo_conversa_min</th>\n",
       "      <th>risadas</th>\n",
       "      <th>pontos_comuns</th>\n",
       "      <th>nivel_timidez</th>\n",
       "      <th>mensagens_antes</th>\n",
       "      <th>iniciativa_conversa</th>\n",
       "      <th>local_encontro</th>\n",
       "      <th>momento_da_vida</th>\n",
       "      <th>segundo_encontro</th>\n",
       "    </tr>\n",
       "  </thead>\n",
       "  <tbody>\n",
       "    <tr>\n",
       "      <th>0</th>\n",
       "      <td>112</td>\n",
       "      <td>16</td>\n",
       "      <td>6</td>\n",
       "      <td>0</td>\n",
       "      <td>45</td>\n",
       "      <td>8</td>\n",
       "      <td>Restaurante</td>\n",
       "      <td>Estressado</td>\n",
       "      <td>Sim</td>\n",
       "    </tr>\n",
       "    <tr>\n",
       "      <th>1</th>\n",
       "      <td>102</td>\n",
       "      <td>13</td>\n",
       "      <td>2</td>\n",
       "      <td>10</td>\n",
       "      <td>41</td>\n",
       "      <td>6</td>\n",
       "      <td>Bar</td>\n",
       "      <td>Estável</td>\n",
       "      <td>Sim</td>\n",
       "    </tr>\n",
       "    <tr>\n",
       "      <th>2</th>\n",
       "      <td>24</td>\n",
       "      <td>8</td>\n",
       "      <td>2</td>\n",
       "      <td>3</td>\n",
       "      <td>16</td>\n",
       "      <td>9</td>\n",
       "      <td>Café</td>\n",
       "      <td>Estável</td>\n",
       "      <td>Sim</td>\n",
       "    </tr>\n",
       "    <tr>\n",
       "      <th>3</th>\n",
       "      <td>116</td>\n",
       "      <td>7</td>\n",
       "      <td>4</td>\n",
       "      <td>0</td>\n",
       "      <td>8</td>\n",
       "      <td>4</td>\n",
       "      <td>Bar</td>\n",
       "      <td>Estressado</td>\n",
       "      <td>Sim</td>\n",
       "    </tr>\n",
       "    <tr>\n",
       "      <th>4</th>\n",
       "      <td>81</td>\n",
       "      <td>1</td>\n",
       "      <td>2</td>\n",
       "      <td>5</td>\n",
       "      <td>5</td>\n",
       "      <td>7</td>\n",
       "      <td>Parque</td>\n",
       "      <td>Estável</td>\n",
       "      <td>Não</td>\n",
       "    </tr>\n",
       "    <tr>\n",
       "      <th>...</th>\n",
       "      <td>...</td>\n",
       "      <td>...</td>\n",
       "      <td>...</td>\n",
       "      <td>...</td>\n",
       "      <td>...</td>\n",
       "      <td>...</td>\n",
       "      <td>...</td>\n",
       "      <td>...</td>\n",
       "      <td>...</td>\n",
       "    </tr>\n",
       "    <tr>\n",
       "      <th>995</th>\n",
       "      <td>129</td>\n",
       "      <td>19</td>\n",
       "      <td>6</td>\n",
       "      <td>0</td>\n",
       "      <td>25</td>\n",
       "      <td>8</td>\n",
       "      <td>Bar</td>\n",
       "      <td>Estável</td>\n",
       "      <td>Sim</td>\n",
       "    </tr>\n",
       "    <tr>\n",
       "      <th>996</th>\n",
       "      <td>68</td>\n",
       "      <td>17</td>\n",
       "      <td>5</td>\n",
       "      <td>6</td>\n",
       "      <td>12</td>\n",
       "      <td>3</td>\n",
       "      <td>Restaurante</td>\n",
       "      <td>Estável</td>\n",
       "      <td>Sim</td>\n",
       "    </tr>\n",
       "    <tr>\n",
       "      <th>997</th>\n",
       "      <td>137</td>\n",
       "      <td>5</td>\n",
       "      <td>3</td>\n",
       "      <td>7</td>\n",
       "      <td>7</td>\n",
       "      <td>7</td>\n",
       "      <td>Parque</td>\n",
       "      <td>Cansado</td>\n",
       "      <td>Sim</td>\n",
       "    </tr>\n",
       "    <tr>\n",
       "      <th>998</th>\n",
       "      <td>123</td>\n",
       "      <td>10</td>\n",
       "      <td>1</td>\n",
       "      <td>10</td>\n",
       "      <td>27</td>\n",
       "      <td>8</td>\n",
       "      <td>Bar</td>\n",
       "      <td>Estressado</td>\n",
       "      <td>Não</td>\n",
       "    </tr>\n",
       "    <tr>\n",
       "      <th>999</th>\n",
       "      <td>124</td>\n",
       "      <td>1</td>\n",
       "      <td>8</td>\n",
       "      <td>7</td>\n",
       "      <td>29</td>\n",
       "      <td>8</td>\n",
       "      <td>Café</td>\n",
       "      <td>Estável</td>\n",
       "      <td>Sim</td>\n",
       "    </tr>\n",
       "  </tbody>\n",
       "</table>\n",
       "<p>1000 rows × 9 columns</p>\n",
       "</div>"
      ],
      "text/plain": [
       "     tempo_conversa_min  risadas  pontos_comuns  nivel_timidez  \\\n",
       "0                   112       16              6              0   \n",
       "1                   102       13              2             10   \n",
       "2                    24        8              2              3   \n",
       "3                   116        7              4              0   \n",
       "4                    81        1              2              5   \n",
       "..                  ...      ...            ...            ...   \n",
       "995                 129       19              6              0   \n",
       "996                  68       17              5              6   \n",
       "997                 137        5              3              7   \n",
       "998                 123       10              1             10   \n",
       "999                 124        1              8              7   \n",
       "\n",
       "     mensagens_antes  iniciativa_conversa local_encontro momento_da_vida  \\\n",
       "0                 45                    8    Restaurante      Estressado   \n",
       "1                 41                    6            Bar         Estável   \n",
       "2                 16                    9           Café         Estável   \n",
       "3                  8                    4            Bar      Estressado   \n",
       "4                  5                    7         Parque         Estável   \n",
       "..               ...                  ...            ...             ...   \n",
       "995               25                    8            Bar         Estável   \n",
       "996               12                    3    Restaurante         Estável   \n",
       "997                7                    7         Parque         Cansado   \n",
       "998               27                    8            Bar      Estressado   \n",
       "999               29                    8           Café         Estável   \n",
       "\n",
       "    segundo_encontro  \n",
       "0                Sim  \n",
       "1                Sim  \n",
       "2                Sim  \n",
       "3                Sim  \n",
       "4                Não  \n",
       "..               ...  \n",
       "995              Sim  \n",
       "996              Sim  \n",
       "997              Sim  \n",
       "998              Não  \n",
       "999              Sim  \n",
       "\n",
       "[1000 rows x 9 columns]"
      ]
     },
     "execution_count": 187,
     "metadata": {},
     "output_type": "execute_result"
    }
   ],
   "source": [
    "df = pd.read_csv('base_segundo_encontro.csv',sep=\";\", encoding='latin-1')\n",
    "df"
   ]
  },
  {
   "cell_type": "code",
   "execution_count": 188,
   "id": "15c5294b-fe37-4417-a4d6-31c495d63879",
   "metadata": {},
   "outputs": [
    {
     "data": {
      "text/plain": [
       "tempo_conversa_min     0\n",
       "risadas                0\n",
       "pontos_comuns          0\n",
       "nivel_timidez          0\n",
       "mensagens_antes        0\n",
       "iniciativa_conversa    0\n",
       "local_encontro         0\n",
       "momento_da_vida        0\n",
       "segundo_encontro       0\n",
       "dtype: int64"
      ]
     },
     "execution_count": 188,
     "metadata": {},
     "output_type": "execute_result"
    }
   ],
   "source": [
    "df.isnull().sum()"
   ]
  },
  {
   "cell_type": "code",
   "execution_count": 189,
   "id": "dc1ee696-84c1-44d3-8346-d0e3f9b37b15",
   "metadata": {},
   "outputs": [
    {
     "data": {
      "text/plain": [
       "<Axes: xlabel='nivel_timidez', ylabel='count'>"
      ]
     },
     "execution_count": 189,
     "metadata": {},
     "output_type": "execute_result"
    },
    {
     "data": {
      "image/png": "[encoded data removed]",
      "text/plain": [
       "<Figure size 800x550 with 1 Axes>"
      ]
     },
     "metadata": {},
     "output_type": "display_data"
    }
   ],
   "source": [
    "sns.countplot(x = df['nivel_timidez'])"
   ]
  },
  {
   "cell_type": "code",
   "execution_count": 190,
   "id": "7b276b8e-0c6f-40ff-8860-fb6c72d1f73c",
   "metadata": {},
   "outputs": [
    {
     "data": {
      "text/plain": [
       "<Axes: xlabel='nivel_timidez'>"
      ]
     },
     "execution_count": 190,
     "metadata": {},
     "output_type": "execute_result"
    },
    {
     "data": {
      "image/png": "[encoded data removed]",
      "text/plain": [
       "<Figure size 800x550 with 1 Axes>"
      ]
     },
     "metadata": {},
     "output_type": "display_data"
    }
   ],
   "source": [
    "sns.boxplot(data = df, x = df['nivel_timidez'])"
   ]
  },
  {
   "cell_type": "code",
   "execution_count": 191,
   "id": "c8eaeba6-7ca0-433c-ace7-b5a0ee324f5b",
   "metadata": {},
   "outputs": [
    {
     "data": {
      "application/vnd.plotly.v1+json": {
       "config": {
        "plotlyServerURL": "https://plot.ly"
       },
       "data": [
        {
         "dimensions": [
          {
           "label": "nivel_timidez",
           "values": {
            "bdata": "AAoDAAUDBAQIAAEFBAoGAgIJAQIJAAQECgYDAgAHAgEKAwIAAgEHBQgHCQIEBgQHBAAEAwUCCgQBCgUFBAUKBgQABwMICQUAAgIJAwUGCQMFCgAHBgoKCAIBAAIECgECAwYCCAcDAAAAAAcCBQIKBAYBBQUKAgUJCQQBCAcCBwgCAgEHCQAHBgYCAAMIBAAEBwcECAADAgEHBggBAwUKAgcCAQIKBQEHAAYBCQUBAQkHAQYCBwYHBgoFBgQGAAAIBAQCBAIICAUABgYJCQMHBQMDAQEDBAcFAwoGBwEGAQEHAQoIAAgACQkBBQUABgcBBwgFBAgKCAAKAggKAQMDAQICAAUHAgQACQYJAAoIBwYJBgQECgQABwoAAwgIBAMCAgQJAAQFBggCAQIIBggBBAMBCAgFCgUHBQADBgEIBwcGAwECBQQHBQUAAwQKAggABQUJBAQJBAUHAQUAAwkCCAIFAAUDBwoIAwkJBQADBgAHCQoFBAkKCAEEBQYECAAGCQYDCAoEAwYDAggKBwAGCAcHBQoDBwIIAQEGCQMJBwgGBAcDAQoFCAAKCQYJCAkICQoCCgQHBwMKCgAAAwUHBQgIAQkAAQQDAwgKBwUAAQUKAQkEBAUFBQEJAgUHCgAACgEKBQgDAgcKCQgKBAgBAgYGBQUBCQUDAgoBAAoKBAEBBgcJBwMACgYACgMHAQUFCAQJAwQJCgQHCQcBBgcKBQQKCAIJAwgFBwYKAQIACAYAAgMDBAICAAYKCQABAwMECgEDAAEACQkDAwYJCgoICAQJAAAFAQcIAwQKBwIEAgkCAgYGBgkHBAQDBgkDAQMHCAIGCAoDCQIEAAIHCgcDAQcHCQMCAQgABgQHAwYEBAgICAUFBAgJBwYGBQQDAgIFAwUCAwgEBgkBBAgKAggKBQMGBwUEBQQHAAoGCQkKAQgACgkFCAADAwgKBAQFAAAIAgMACAcBBwYKBQAGCQYIAAEKCAgFBQMDBAIAAAYAAAIJAwMBAAIKAwIHCQABBgMHCgIFCAAABwIEAAQKBQcCAgoKCQgDAwYBBwUCCAQHBgcGAgEGAgIBAwcAAAQKBAoABQAECAQFBwoAAQgCBQQKAQYDAAMFBgYGAgUHAwcBCQgIBwkJAAEFCQQIBAEJAwgACgAGCgIJAQgCAQcJBQUJCgYGCgUDCggFAwIDAgEEAQUCBQoJCAAFCAoDCgEDAAIJCAkECgUCBAoHBQMBCAAAAwYACAMCAAkDCAkFBQAJAQoFAQIDCgQIAwoICgkCBwAKCAgJAQMHBgAEBgMACAQKAQcKAQIJAAoBBgkBBQIDCgcCCQUABgcKBw==",
            "dtype": "i1"
           }
          },
          {
           "label": "segundo_encontro",
           "values": [
            "Sim",
            "Sim",
            "Sim",
            "Sim",
            "Não",
            "Não",
            "Sim",
            "Sim",
            "Sim",
            "Sim",
            "Sim",
            "Sim",
            "Sim",
            "Não",
            "Não",
            "Sim",
            "Sim",
            "Sim",
            "Sim",
            "Sim",
            "Sim",
            "Não",
            "Sim",
            "Não",
            "Não",
            "Sim",
            "Não",
            "Não",
            "Sim",
            "Não",
            "Não",
            "Sim",
            "Não",
            "Sim",
            "Não",
            "Sim",
            "Sim",
            "Sim",
            "Não",
            "Sim",
            "Sim",
            "Não",
            "Sim",
            "Sim",
            "Sim",
            "Sim",
            "Não",
            "Sim",
            "Sim",
            "Sim",
            "Sim",
            "Não",
            "Sim",
            "Sim",
            "Sim",
            "Sim",
            "Sim",
            "Sim",
            "Não",
            "Não",
            "Sim",
            "Sim",
            "Sim",
            "Sim",
            "Não",
            "Sim",
            "Não",
            "Não",
            "Não",
            "Não",
            "Sim",
            "Sim",
            "Não",
            "Sim",
            "Sim",
            "Sim",
            "Não",
            "Não",
            "Sim",
            "Sim",
            "Não",
            "Não",
            "Sim",
            "Sim",
            "Sim",
            "Sim",
            "Não",
            "Sim",
            "Não",
            "Sim",
            "Sim",
            "Sim",
            "Sim",
            "Sim",
            "Sim",
            "Sim",
            "Sim",
            "Sim",
            "Não",
            "Sim",
            "Sim",
            "Sim",
            "Sim",
            "Sim",
            "Sim",
            "Sim",
            "Sim",
            "Sim",
            "Sim",
            "Sim",
            "Não",
            "Sim",
            "Sim",
            "Sim",
            "Sim",
            "Não",
            "Sim",
            "Sim",
            "Sim",
            "Sim",
            "Sim",
            "Sim",
            "Sim",
            "Sim",
            "Sim",
            "Sim",
            "Não",
            "Sim",
            "Sim",
            "Sim",
            "Sim",
            "Sim",
            "Não",
            "Sim",
            "Sim",
            "Sim",
            "Não",
            "Sim",
            "Sim",
            "Sim",
            "Não",
            "Sim",
            "Sim",
            "Sim",
            "Sim",
            "Sim",
            "Sim",
            "Sim",
            "Sim",
            "Não",
            "Sim",
            "Sim",
            "Não",
            "Sim",
            "Não",
            "Sim",
            "Sim",
            "Sim",
            "Sim",
            "Não",
            "Sim",
            "Sim",
            "Sim",
            "Sim",
            "Sim",
            "Sim",
            "Sim",
            "Sim",
            "Sim",
            "Sim",
            "Sim",
            "Não",
            "Não",
            "Sim",
            "Sim",
            "Sim",
            "Sim",
            "Sim",
            "Sim",
            "Sim",
            "Sim",
            "Sim",
            "Sim",
            "Sim",
            "Sim",
            "Sim",
            "Sim",
            "Sim",
            "Sim",
            "Sim",
            "Sim",
            "Sim",
            "Sim",
            "Não",
            "Sim",
            "Sim",
            "Sim",
            "Sim",
            "Não",
            "Sim",
            "Sim",
            "Não",
            "Não",
            "Sim",
            "Sim",
            "Sim",
            "Sim",
            "Sim",
            "Sim",
            "Sim",
            "Sim",
            "Sim",
            "Sim",
            "Sim",
            "Sim",
            "Sim",
            "Sim",
            "Sim",
            "Sim",
            "Não",
            "Sim",
            "Sim",
            "Sim",
            "Sim",
            "Sim",
            "Sim",
            "Sim",
            "Não",
            "Sim",
            "Não",
            "Sim",
            "Não",
            "Sim",
            "Sim",
            "Sim",
            "Não",
            "Sim",
            "Sim",
            "Sim",
            "Sim",
            "Não",
            "Sim",
            "Não",
            "Sim",
            "Não",
            "Não",
            "Não",
            "Sim",
            "Não",
            "Sim",
            "Não",
            "Sim",
            "Sim",
            "Sim",
            "Sim",
            "Sim",
            "Sim",
            "Sim",
            "Sim",
            "Não",
            "Sim",
            "Não",
            "Sim",
            "Sim",
            "Sim",
            "Sim",
            "Não",
            "Sim",
            "Não",
            "Sim",
            "Não",
            "Não",
            "Sim",
            "Não",
            "Não",
            "Sim",
            "Sim",
            "Sim",
            "Sim",
            "Sim",
            "Sim",
            "Sim",
            "Sim",
            "Sim",
            "Sim",
            "Sim",
            "Não",
            "Sim",
            "Sim",
            "Não",
            "Sim",
            "Sim",
            "Sim",
            "Sim",
            "Sim",
            "Sim",
            "Sim",
            "Sim",
            "Sim",
            "Não",
            "Sim",
            "Sim",
            "Sim",
            "Sim",
            "Não",
            "Sim",
            "Sim",
            "Sim",
            "Sim",
            "Sim",
            "Sim",
            "Sim",
            "Sim",
            "Não",
            "Sim",
            "Sim",
            "Sim",
            "Não",
            "Não",
            "Sim",
            "Não",
            "Sim",
            "Sim",
            "Sim",
            "Sim",
            "Não",
            "Sim",
            "Sim",
            "Não",
            "Sim",
            "Sim",
            "Sim",
            "Não",
            "Sim",
            "Sim",
            "Sim",
            "Sim",
            "Sim",
            "Sim",
            "Não",
            "Não",
            "Sim",
            "Sim",
            "Sim",
            "Sim",
            "Sim",
            "Sim",
            "Sim",
            "Sim",
            "Sim",
            "Sim",
            "Sim",
            "Sim",
            "Não",
            "Sim",
            "Não",
            "Sim",
            "Não",
            "Sim",
            "Sim",
            "Sim",
            "Sim",
            "Não",
            "Sim",
            "Sim",
            "Sim",
            "Sim",
            "Sim",
            "Não",
            "Sim",
            "Sim",
            "Sim",
            "Não",
            "Não",
            "Sim",
            "Sim",
            "Sim",
            "Não",
            "Sim",
            "Sim",
            "Sim",
            "Sim",
            "Não",
            "Sim",
            "Não",
            "Sim",
            "Sim",
            "Não",
            "Não",
            "Sim",
            "Sim",
            "Sim",
            "Sim",
            "Sim",
            "Sim",
            "Não",
            "Sim",
            "Sim",
            "Sim",
            "Sim",
            "Não",
            "Sim",
            "Sim",
            "Sim",
            "Sim",
            "Sim",
            "Sim",
            "Sim",
            "Sim",
            "Sim",
            "Sim",
            "Sim",
            "Sim",
            "Não",
            "Não",
            "Sim",
            "Sim",
            "Sim",
            "Sim",
            "Sim",
            "Sim",
            "Não",
            "Sim",
            "Sim",
            "Sim",
            "Não",
            "Sim",
            "Sim",
            "Sim",
            "Sim",
            "Não",
            "Sim",
            "Sim",
            "Sim",
            "Sim",
            "Sim",
            "Sim",
            "Sim",
            "Sim",
            "Não",
            "Sim",
            "Não",
            "Sim",
            "Sim",
            "Sim",
            "Não",
            "Não",
            "Sim",
            "Sim",
            "Sim",
            "Sim",
            "Sim",
            "Sim",
            "Não",
            "Não",
            "Sim",
            "Sim",
            "Sim",
            "Sim",
            "Não",
            "Sim",
            "Sim",
            "Sim",
            "Não",
            "Sim",
            "Não",
            "Sim",
            "Sim",
            "Sim",
            "Sim",
            "Sim",
            "Não",
            "Sim",
            "Não",
            "Sim",
            "Sim",
            "Sim",
            "Sim",
            "Sim",
            "Sim",
            "Sim",
            "Sim",
            "Sim",
            "Sim",
            "Não",
            "Sim",
            "Sim",
            "Não",
            "Sim",
            "Sim",
            "Sim",
            "Sim",
            "Sim",
            "Sim",
            "Sim",
            "Sim",
            "Não",
            "Não",
            "Sim",
            "Sim",
            "Não",
            "Sim",
            "Sim",
            "Sim",
            "Sim",
            "Sim",
            "Sim",
            "Sim",
            "Sim",
            "Não",
            "Sim",
            "Sim",
            "Sim",
            "Sim",
            "Sim",
            "Não",
            "Sim",
            "Sim",
            "Sim",
            "Não",
            "Sim",
            "Sim",
            "Sim",
            "Sim",
            "Sim",
            "Sim",
            "Sim",
            "Não",
            "Não",
            "Sim",
            "Sim",
            "Sim",
            "Sim",
            "Não",
            "Sim",
            "Sim",
            "Sim",
            "Sim",
            "Sim",
            "Sim",
            "Sim",
            "Sim",
            "Não",
            "Sim",
            "Sim",
            "Não",
            "Não",
            "Sim",
            "Não",
            "Não",
            "Sim",
            "Sim",
            "Sim",
            "Não",
            "Não",
            "Sim",
            "Não",
            "Sim",
            "Sim",
            "Sim",
            "Sim",
            "Sim",
            "Não",
            "Sim",
            "Sim",
            "Sim",
            "Sim",
            "Sim",
            "Não",
            "Não",
            "Não",
            "Sim",
            "Não",
            "Sim",
            "Sim",
            "Sim",
            "Não",
            "Sim",
            "Não",
            "Sim",
            "Sim",
            "Sim",
            "Sim",
            "Sim",
            "Sim",
            "Sim",
            "Sim",
            "Não",
            "Sim",
            "Sim",
            "Não",
            "Sim",
            "Sim",
            "Não",
            "Sim",
            "Sim",
            "Não",
            "Sim",
            "Sim",
            "Sim",
            "Sim",
            "Sim",
            "Sim",
            "Sim",
            "Sim",
            "Sim",
            "Sim",
            "Sim",
            "Sim",
            "Sim",
            "Sim",
            "Sim",
            "Sim",
            "Sim",
            "Sim",
            "Sim",
            "Sim",
            "Não",
            "Sim",
            "Não",
            "Sim",
            "Sim",
            "Sim",
            "Não",
            "Não",
            "Sim",
            "Sim",
            "Sim",
            "Sim",
            "Não",
            "Não",
            "Sim",
            "Sim",
            "Sim",
            "Sim",
            "Não",
            "Não",
            "Sim",
            "Não",
            "Sim",
            "Sim",
            "Sim",
            "Não",
            "Sim",
            "Sim",
            "Não",
            "Não",
            "Sim",
            "Sim",
            "Sim",
            "Sim",
            "Sim",
            "Sim",
            "Sim",
            "Sim",
            "Sim",
            "Sim",
            "Sim",
            "Não",
            "Sim",
            "Não",
            "Sim",
            "Não",
            "Sim",
            "Sim",
            "Não",
            "Não",
            "Não",
            "Sim",
            "Sim",
            "Sim",
            "Sim",
            "Sim",
            "Sim",
            "Sim",
            "Sim",
            "Sim",
            "Sim",
            "Não",
            "Não",
            "Sim",
            "Sim",
            "Não",
            "Sim",
            "Sim",
            "Não",
            "Sim",
            "Sim",
            "Sim",
            "Sim",
            "Sim",
            "Sim",
            "Sim",
            "Sim",
            "Não",
            "Sim",
            "Sim",
            "Sim",
            "Sim",
            "Sim",
            "Sim",
            "Não",
            "Sim",
            "Sim",
            "Sim",
            "Sim",
            "Não",
            "Sim",
            "Sim",
            "Sim",
            "Sim",
            "Sim",
            "Sim",
            "Não",
            "Sim",
            "Não",
            "Sim",
            "Sim",
            "Sim",
            "Sim",
            "Sim",
            "Não",
            "Sim",
            "Sim",
            "Não",
            "Sim",
            "Sim",
            "Não",
            "Sim",
            "Sim",
            "Sim",
            "Sim",
            "Sim",
            "Sim",
            "Sim",
            "Sim",
            "Sim",
            "Sim",
            "Sim",
            "Não",
            "Não",
            "Sim",
            "Sim",
            "Não",
            "Não",
            "Não",
            "Sim",
            "Sim",
            "Sim",
            "Sim",
            "Sim",
            "Sim",
            "Sim",
            "Sim",
            "Não",
            "Sim",
            "Sim",
            "Sim",
            "Sim",
            "Sim",
            "Sim",
            "Sim",
            "Não",
            "Sim",
            "Sim",
            "Não",
            "Sim",
            "Sim",
            "Não",
            "Sim",
            "Não",
            "Sim",
            "Sim",
            "Sim",
            "Sim",
            "Sim",
            "Não",
            "Sim",
            "Não",
            "Sim",
            "Não",
            "Sim",
            "Sim",
            "Sim",
            "Não",
            "Sim",
            "Não",
            "Não",
            "Sim",
            "Sim",
            "Sim",
            "Sim",
            "Não",
            "Sim",
            "Sim",
            "Sim",
            "Sim",
            "Sim",
            "Sim",
            "Não",
            "Sim",
            "Sim",
            "Sim",
            "Sim",
            "Sim",
            "Sim",
            "Sim",
            "Não",
            "Sim",
            "Sim",
            "Sim",
            "Sim",
            "Sim",
            "Não",
            "Sim",
            "Sim",
            "Sim",
            "Sim",
            "Não",
            "Não",
            "Sim",
            "Sim",
            "Sim",
            "Sim",
            "Sim",
            "Sim",
            "Sim",
            "Não",
            "Sim",
            "Sim",
            "Não",
            "Sim",
            "Não",
            "Sim",
            "Sim",
            "Sim",
            "Sim",
            "Não",
            "Sim",
            "Sim",
            "Sim",
            "Sim",
            "Sim",
            "Não",
            "Sim",
            "Sim",
            "Sim",
            "Não",
            "Sim",
            "Sim",
            "Sim",
            "Sim",
            "Sim",
            "Sim",
            "Sim",
            "Não",
            "Sim",
            "Não",
            "Não",
            "Não",
            "Não",
            "Sim",
            "Não",
            "Não",
            "Sim",
            "Sim",
            "Sim",
            "Não",
            "Sim",
            "Não",
            "Não",
            "Não",
            "Sim",
            "Sim",
            "Sim",
            "Sim",
            "Não",
            "Sim",
            "Sim",
            "Não",
            "Não",
            "Sim",
            "Sim",
            "Não",
            "Não",
            "Sim",
            "Sim",
            "Sim",
            "Não",
            "Não",
            "Sim",
            "Sim",
            "Sim",
            "Sim",
            "Sim",
            "Sim",
            "Sim",
            "Sim",
            "Não",
            "Não",
            "Sim",
            "Sim",
            "Sim",
            "Não",
            "Sim",
            "Sim",
            "Não",
            "Sim",
            "Não",
            "Sim",
            "Sim",
            "Sim",
            "Sim",
            "Sim",
            "Sim",
            "Sim",
            "Sim",
            "Sim",
            "Sim",
            "Não",
            "Sim",
            "Sim",
            "Sim",
            "Não",
            "Sim",
            "Sim",
            "Sim",
            "Não",
            "Sim",
            "Não",
            "Sim",
            "Sim",
            "Sim",
            "Sim",
            "Sim",
            "Sim",
            "Sim",
            "Não",
            "Sim",
            "Sim",
            "Sim",
            "Sim",
            "Sim",
            "Sim",
            "Sim",
            "Sim",
            "Sim",
            "Não",
            "Não",
            "Sim",
            "Não",
            "Sim",
            "Não",
            "Não",
            "Sim",
            "Sim",
            "Sim",
            "Não",
            "Sim",
            "Sim",
            "Sim",
            "Sim",
            "Não",
            "Não",
            "Sim",
            "Não",
            "Sim",
            "Sim",
            "Sim",
            "Não",
            "Sim",
            "Sim",
            "Sim",
            "Sim",
            "Não",
            "Sim",
            "Sim",
            "Sim",
            "Sim",
            "Sim",
            "Sim",
            "Sim",
            "Sim",
            "Sim",
            "Sim",
            "Não",
            "Sim",
            "Não",
            "Sim",
            "Sim",
            "Sim",
            "Sim",
            "Sim",
            "Sim",
            "Sim",
            "Sim",
            "Sim",
            "Sim",
            "Não",
            "Sim"
           ]
          }
         ],
         "domain": {
          "x": [
           0,
           1
          ],
          "y": [
           0,
           1
          ]
         },
         "name": "",
         "type": "parcats"
        }
       ],
       "layout": {
        "legend": {
         "tracegroupgap": 0
        },
        "margin": {
         "t": 60
        },
        "template": {
         "data": {
          "bar": [
           {
            "error_x": {
             "color": "#2a3f5f"
            },
            "error_y": {
             "color": "#2a3f5f"
            },
            "marker": {
             "line": {
              "color": "#E5ECF6",
              "width": 0.5
             },
             "pattern": {
              "fillmode": "overlay",
              "size": 10,
              "solidity": 0.2
             }
            },
            "type": "bar"
           }
          ],
          "barpolar": [
           {
            "marker": {
             "line": {
              "color": "#E5ECF6",
              "width": 0.5
             },
             "pattern": {
              "fillmode": "overlay",
              "size": 10,
              "solidity": 0.2
             }
            },
            "type": "barpolar"
           }
          ],
          "carpet": [
           {
            "aaxis": {
             "endlinecolor": "#2a3f5f",
             "gridcolor": "white",
             "linecolor": "white",
             "minorgridcolor": "white",
             "startlinecolor": "#2a3f5f"
            },
            "baxis": {
             "endlinecolor": "#2a3f5f",
             "gridcolor": "white",
             "linecolor": "white",
             "minorgridcolor": "white",
             "startlinecolor": "#2a3f5f"
            },
            "type": "carpet"
           }
          ],
          "choropleth": [
           {
            "colorbar": {
             "outlinewidth": 0,
             "ticks": ""
            },
            "type": "choropleth"
           }
          ],
          "contour": [
           {
            "colorbar": {
             "outlinewidth": 0,
             "ticks": ""
            },
            "colorscale": [
             [
              0,
              "#0d0887"
             ],
             [
              0.1111111111111111,
              "#46039f"
             ],
             [
              0.2222222222222222,
              "#7201a8"
             ],
             [
              0.3333333333333333,
              "#9c179e"
             ],
             [
              0.4444444444444444,
              "#bd3786"
             ],
             [
              0.5555555555555556,
              "#d8576b"
             ],
             [
              0.6666666666666666,
              "#ed7953"
             ],
             [
              0.7777777777777778,
              "#fb9f3a"
             ],
             [
              0.8888888888888888,
              "#fdca26"
             ],
             [
              1,
              "#f0f921"
             ]
            ],
            "type": "contour"
           }
          ],
          "contourcarpet": [
           {
            "colorbar": {
             "outlinewidth": 0,
             "ticks": ""
            },
            "type": "contourcarpet"
           }
          ],
          "heatmap": [
           {
            "colorbar": {
             "outlinewidth": 0,
             "ticks": ""
            },
            "colorscale": [
             [
              0,
              "#0d0887"
             ],
             [
              0.1111111111111111,
              "#46039f"
             ],
             [
              0.2222222222222222,
              "#7201a8"
             ],
             [
              0.3333333333333333,
              "#9c179e"
             ],
             [
              0.4444444444444444,
              "#bd3786"
             ],
             [
              0.5555555555555556,
              "#d8576b"
             ],
             [
              0.6666666666666666,
              "#ed7953"
             ],
             [
              0.7777777777777778,
              "#fb9f3a"
             ],
             [
              0.8888888888888888,
              "#fdca26"
             ],
             [
              1,
              "#f0f921"
             ]
            ],
            "type": "heatmap"
           }
          ],
          "histogram": [
           {
            "marker": {
             "pattern": {
              "fillmode": "overlay",
              "size": 10,
              "solidity": 0.2
             }
            },
            "type": "histogram"
           }
          ],
          "histogram2d": [
           {
            "colorbar": {
             "outlinewidth": 0,
             "ticks": ""
            },
            "colorscale": [
             [
              0,
              "#0d0887"
             ],
             [
              0.1111111111111111,
              "#46039f"
             ],
             [
              0.2222222222222222,
              "#7201a8"
             ],
             [
              0.3333333333333333,
              "#9c179e"
             ],
             [
              0.4444444444444444,
              "#bd3786"
             ],
             [
              0.5555555555555556,
              "#d8576b"
             ],
             [
              0.6666666666666666,
              "#ed7953"
             ],
             [
              0.7777777777777778,
              "#fb9f3a"
             ],
             [
              0.8888888888888888,
              "#fdca26"
             ],
             [
              1,
              "#f0f921"
             ]
            ],
            "type": "histogram2d"
           }
          ],
          "histogram2dcontour": [
           {
            "colorbar": {
             "outlinewidth": 0,
             "ticks": ""
            },
            "colorscale": [
             [
              0,
              "#0d0887"
             ],
             [
              0.1111111111111111,
              "#46039f"
             ],
             [
              0.2222222222222222,
              "#7201a8"
             ],
             [
              0.3333333333333333,
              "#9c179e"
             ],
             [
              0.4444444444444444,
              "#bd3786"
             ],
             [
              0.5555555555555556,
              "#d8576b"
             ],
             [
              0.6666666666666666,
              "#ed7953"
             ],
             [
              0.7777777777777778,
              "#fb9f3a"
             ],
             [
              0.8888888888888888,
              "#fdca26"
             ],
             [
              1,
              "#f0f921"
             ]
            ],
            "type": "histogram2dcontour"
           }
          ],
          "mesh3d": [
           {
            "colorbar": {
             "outlinewidth": 0,
             "ticks": ""
            },
            "type": "mesh3d"
           }
          ],
          "parcoords": [
           {
            "line": {
             "colorbar": {
              "outlinewidth": 0,
              "ticks": ""
             }
            },
            "type": "parcoords"
           }
          ],
          "pie": [
           {
            "automargin": true,
            "type": "pie"
           }
          ],
          "scatter": [
           {
            "fillpattern": {
             "fillmode": "overlay",
             "size": 10,
             "solidity": 0.2
            },
            "type": "scatter"
           }
          ],
          "scatter3d": [
           {
            "line": {
             "colorbar": {
              "outlinewidth": 0,
              "ticks": ""
             }
            },
            "marker": {
             "colorbar": {
              "outlinewidth": 0,
              "ticks": ""
             }
            },
            "type": "scatter3d"
           }
          ],
          "scattercarpet": [
           {
            "marker": {
             "colorbar": {
              "outlinewidth": 0,
              "ticks": ""
             }
            },
            "type": "scattercarpet"
           }
          ],
          "scattergeo": [
           {
            "marker": {
             "colorbar": {
              "outlinewidth": 0,
              "ticks": ""
             }
            },
            "type": "scattergeo"
           }
          ],
          "scattergl": [
           {
            "marker": {
             "colorbar": {
              "outlinewidth": 0,
              "ticks": ""
             }
            },
            "type": "scattergl"
           }
          ],
          "scattermap": [
           {
            "marker": {
             "colorbar": {
              "outlinewidth": 0,
              "ticks": ""
             }
            },
            "type": "scattermap"
           }
          ],
          "scattermapbox": [
           {
            "marker": {
             "colorbar": {
              "outlinewidth": 0,
              "ticks": ""
             }
            },
            "type": "scattermapbox"
           }
          ],
          "scatterpolar": [
           {
            "marker": {
             "colorbar": {
              "outlinewidth": 0,
              "ticks": ""
             }
            },
            "type": "scatterpolar"
           }
          ],
          "scatterpolargl": [
           {
            "marker": {
             "colorbar": {
              "outlinewidth": 0,
              "ticks": ""
             }
            },
            "type": "scatterpolargl"
           }
          ],
          "scatterternary": [
           {
            "marker": {
             "colorbar": {
              "outlinewidth": 0,
              "ticks": ""
             }
            },
            "type": "scatterternary"
           }
          ],
          "surface": [
           {
            "colorbar": {
             "outlinewidth": 0,
             "ticks": ""
            },
            "colorscale": [
             [
              0,
              "#0d0887"
             ],
             [
              0.1111111111111111,
              "#46039f"
             ],
             [
              0.2222222222222222,
              "#7201a8"
             ],
             [
              0.3333333333333333,
              "#9c179e"
             ],
             [
              0.4444444444444444,
              "#bd3786"
             ],
             [
              0.5555555555555556,
              "#d8576b"
             ],
             [
              0.6666666666666666,
              "#ed7953"
             ],
             [
              0.7777777777777778,
              "#fb9f3a"
             ],
             [
              0.8888888888888888,
              "#fdca26"
             ],
             [
              1,
              "#f0f921"
             ]
            ],
            "type": "surface"
           }
          ],
          "table": [
           {
            "cells": {
             "fill": {
              "color": "#EBF0F8"
             },
             "line": {
              "color": "white"
             }
            },
            "header": {
             "fill": {
              "color": "#C8D4E3"
             },
             "line": {
              "color": "white"
             }
            },
            "type": "table"
           }
          ]
         },
         "layout": {
          "annotationdefaults": {
           "arrowcolor": "#2a3f5f",
           "arrowhead": 0,
           "arrowwidth": 1
          },
          "autotypenumbers": "strict",
          "coloraxis": {
           "colorbar": {
            "outlinewidth": 0,
            "ticks": ""
           }
          },
          "colorscale": {
           "diverging": [
            [
             0,
             "#8e0152"
            ],
            [
             0.1,
             "#c51b7d"
            ],
            [
             0.2,
             "#de77ae"
            ],
            [
             0.3,
             "#f1b6da"
            ],
            [
             0.4,
             "#fde0ef"
            ],
            [
             0.5,
             "#f7f7f7"
            ],
            [
             0.6,
             "#e6f5d0"
            ],
            [
             0.7,
             "#b8e186"
            ],
            [
             0.8,
             "#7fbc41"
            ],
            [
             0.9,
             "#4d9221"
            ],
            [
             1,
             "#276419"
            ]
           ],
           "sequential": [
            [
             0,
             "#0d0887"
            ],
            [
             0.1111111111111111,
             "#46039f"
            ],
            [
             0.2222222222222222,
             "#7201a8"
            ],
            [
             0.3333333333333333,
             "#9c179e"
            ],
            [
             0.4444444444444444,
             "#bd3786"
            ],
            [
             0.5555555555555556,
             "#d8576b"
            ],
            [
             0.6666666666666666,
             "#ed7953"
            ],
            [
             0.7777777777777778,
             "#fb9f3a"
            ],
            [
             0.8888888888888888,
             "#fdca26"
            ],
            [
             1,
             "#f0f921"
            ]
           ],
           "sequentialminus": [
            [
             0,
             "#0d0887"
            ],
            [
             0.1111111111111111,
             "#46039f"
            ],
            [
             0.2222222222222222,
             "#7201a8"
            ],
            [
             0.3333333333333333,
             "#9c179e"
            ],
            [
             0.4444444444444444,
             "#bd3786"
            ],
            [
             0.5555555555555556,
             "#d8576b"
            ],
            [
             0.6666666666666666,
             "#ed7953"
            ],
            [
             0.7777777777777778,
             "#fb9f3a"
            ],
            [
             0.8888888888888888,
             "#fdca26"
            ],
            [
             1,
             "#f0f921"
            ]
           ]
          },
          "colorway": [
           "#636efa",
           "#EF553B",
           "#00cc96",
           "#ab63fa",
           "#FFA15A",
           "#19d3f3",
           "#FF6692",
           "#B6E880",
           "#FF97FF",
           "#FECB52"
          ],
          "font": {
           "color": "#2a3f5f"
          },
          "geo": {
           "bgcolor": "white",
           "lakecolor": "white",
           "landcolor": "#E5ECF6",
           "showlakes": true,
           "showland": true,
           "subunitcolor": "white"
          },
          "hoverlabel": {
           "align": "left"
          },
          "hovermode": "closest",
          "mapbox": {
           "style": "light"
          },
          "paper_bgcolor": "white",
          "plot_bgcolor": "#E5ECF6",
          "polar": {
           "angularaxis": {
            "gridcolor": "white",
            "linecolor": "white",
            "ticks": ""
           },
           "bgcolor": "#E5ECF6",
           "radialaxis": {
            "gridcolor": "white",
            "linecolor": "white",
            "ticks": ""
           }
          },
          "scene": {
           "xaxis": {
            "backgroundcolor": "#E5ECF6",
            "gridcolor": "white",
            "gridwidth": 2,
            "linecolor": "white",
            "showbackground": true,
            "ticks": "",
            "zerolinecolor": "white"
           },
           "yaxis": {
            "backgroundcolor": "#E5ECF6",
            "gridcolor": "white",
            "gridwidth": 2,
            "linecolor": "white",
            "showbackground": true,
            "ticks": "",
            "zerolinecolor": "white"
           },
           "zaxis": {
            "backgroundcolor": "#E5ECF6",
            "gridcolor": "white",
            "gridwidth": 2,
            "linecolor": "white",
            "showbackground": true,
            "ticks": "",
            "zerolinecolor": "white"
           }
          },
          "shapedefaults": {
           "line": {
            "color": "#2a3f5f"
           }
          },
          "ternary": {
           "aaxis": {
            "gridcolor": "white",
            "linecolor": "white",
            "ticks": ""
           },
           "baxis": {
            "gridcolor": "white",
            "linecolor": "white",
            "ticks": ""
           },
           "bgcolor": "#E5ECF6",
           "caxis": {
            "gridcolor": "white",
            "linecolor": "white",
            "ticks": ""
           }
          },
          "title": {
           "x": 0.05
          },
          "xaxis": {
           "automargin": true,
           "gridcolor": "white",
           "linecolor": "white",
           "ticks": "",
           "title": {
            "standoff": 15
           },
           "zerolinecolor": "white",
           "zerolinewidth": 2
          },
          "yaxis": {
           "automargin": true,
           "gridcolor": "white",
           "linecolor": "white",
           "ticks": "",
           "title": {
            "standoff": 15
           },
           "zerolinecolor": "white",
           "zerolinewidth": 2
          }
         }
        }
       }
      },
      "image/png": "[encoded data removed]"
     },
     "metadata": {},
     "output_type": "display_data"
    }
   ],
   "source": [
    "grafico = px.parallel_categories(df, dimensions=['nivel_timidez', 'segundo_encontro'])\n",
    "grafico.show()"
   ]
  },
  {
   "cell_type": "code",
   "execution_count": 192,
   "id": "bca67e94-5a9b-414c-a91e-4a69ac8c7653",
   "metadata": {},
   "outputs": [],
   "source": [
    "x = df.iloc[:,0:8]\n",
    "y = df.iloc[:,8]"
   ]
  },
  {
   "cell_type": "code",
   "execution_count": 193,
   "id": "1f728c1f-d5c2-476c-8017-4bab1220e312",
   "metadata": {},
   "outputs": [],
   "source": [
    "from sklearn.preprocessing import OneHotEncoder\n",
    "from sklearn.compose import ColumnTransformer\n",
    "\n",
    "hot = ColumnTransformer(transformers=[('OneHot', OneHotEncoder(), [6,7])], remainder='passthrough')"
   ]
  },
  {
   "cell_type": "code",
   "execution_count": 194,
   "id": "370a6a36-0912-4034-a860-1c28ffe26b3e",
   "metadata": {},
   "outputs": [
    {
     "data": {
      "text/plain": [
       "array([[ 0.,  0.,  0., ...,  0., 45.,  8.],\n",
       "       [ 1.,  0.,  0., ..., 10., 41.,  6.],\n",
       "       [ 0.,  1.,  0., ...,  3., 16.,  9.],\n",
       "       ...,\n",
       "       [ 0.,  0.,  1., ...,  7.,  7.,  7.],\n",
       "       [ 1.,  0.,  0., ..., 10., 27.,  8.],\n",
       "       [ 0.,  1.,  0., ...,  7., 29.,  8.]])"
      ]
     },
     "execution_count": 194,
     "metadata": {},
     "output_type": "execute_result"
    }
   ],
   "source": [
    "x = hot.fit_transform(x)\n",
    "x"
   ]
  },
  {
   "cell_type": "code",
   "execution_count": 195,
   "id": "11fc6500-70eb-4c67-a25d-4a6cd830341e",
   "metadata": {},
   "outputs": [],
   "source": [
    "from sklearn.preprocessing import StandardScaler \n",
    "\n",
    "scaler = StandardScaler()\n",
    "x = scaler.fit_transform(x)"
   ]
  },
  {
   "cell_type": "code",
   "execution_count": 196,
   "id": "c954dbc9-91d4-4d0c-8f91-a32847862185",
   "metadata": {},
   "outputs": [],
   "source": [
    "from sklearn.model_selection import train_test_split\n",
    "\n",
    "x_train, x_test, y_train, y_test = train_test_split(x,y, test_size=0.25, random_state = 0)"
   ]
  },
  {
   "cell_type": "code",
   "execution_count": 197,
   "id": "c978516a-4bba-4f6f-b131-8eb51678d1c9",
   "metadata": {},
   "outputs": [
    {
     "data": {
      "text/plain": [
       "'linear'"
      ]
     },
     "execution_count": 197,
     "metadata": {},
     "output_type": "execute_result"
    }
   ],
   "source": [
    "from sklearn.svm import SVC\n",
    "from sklearn.metrics import accuracy_score, classification_report\n",
    "\n",
    "kernels = ['linear','poly','rbf','sigmoid']\n",
    "Cs=[0.1,1,2,10]\n",
    "melhorAccuracy = 0\n",
    "\n",
    "for k in kernels:\n",
    "    for c in Cs:\n",
    "        svm = SVC(kernel=k, C = c)\n",
    "        svm.fit(x_train, y_train )\n",
    "        previsoes = svm.predict(x_test)\n",
    "        accuracy = accuracy_score(y_test, previsoes)\n",
    "        \n",
    "        if accuracy > melhorAccuracy:\n",
    "            melhorAccuracy = accuracy\n",
    "            melhorKernel = k\n",
    "            melhorC = c\n",
    "\n",
    "svm = SVC(kernel=melhorKernel, C = melhorC)\n",
    "svm.fit(x_train, y_train )"
   ]
  },
  {
   "cell_type": "code",
   "execution_count": 198,
   "id": "b5f87e3e-6506-452f-9e16-631b72495390",
   "metadata": {},
   "outputs": [
    {
     "data": {
      "text/plain": [
       "array(['Sim', 'Não', 'Sim', 'Não', 'Sim', 'Sim', 'Não', 'Não', 'Sim',\n",
       "       'Não', 'Não', 'Sim', 'Não', 'Sim', 'Não', 'Sim', 'Não', 'Sim',\n",
       "       'Não', 'Não', 'Sim', 'Sim', 'Sim', 'Sim', 'Não', 'Sim', 'Sim',\n",
       "       'Sim', 'Sim', 'Sim', 'Sim', 'Sim', 'Sim', 'Sim', 'Sim', 'Sim',\n",
       "       'Não', 'Sim', 'Sim', 'Sim', 'Sim', 'Sim', 'Não', 'Sim', 'Sim',\n",
       "       'Sim', 'Não', 'Sim', 'Sim', 'Não', 'Sim', 'Sim', 'Sim', 'Sim',\n",
       "       'Não', 'Sim', 'Sim', 'Não', 'Não', 'Sim', 'Não', 'Sim', 'Sim',\n",
       "       'Não', 'Não', 'Sim', 'Sim', 'Sim', 'Sim', 'Não', 'Sim', 'Não',\n",
       "       'Não', 'Sim', 'Sim', 'Sim', 'Sim', 'Sim', 'Sim', 'Sim', 'Não',\n",
       "       'Sim', 'Sim', 'Sim', 'Sim', 'Sim', 'Sim', 'Sim', 'Não', 'Sim',\n",
       "       'Sim', 'Sim', 'Não', 'Sim', 'Não', 'Sim', 'Não', 'Sim', 'Sim',\n",
       "       'Sim', 'Sim', 'Sim', 'Sim', 'Sim', 'Não', 'Não', 'Não', 'Sim',\n",
       "       'Sim', 'Sim', 'Sim', 'Sim', 'Sim', 'Sim', 'Sim', 'Sim', 'Não',\n",
       "       'Não', 'Sim', 'Sim', 'Não', 'Sim', 'Sim', 'Sim', 'Sim', 'Sim',\n",
       "       'Não', 'Sim', 'Sim', 'Sim', 'Sim', 'Não', 'Não', 'Não', 'Sim',\n",
       "       'Não', 'Sim', 'Sim', 'Sim', 'Não', 'Sim', 'Sim', 'Sim', 'Sim',\n",
       "       'Sim', 'Sim', 'Não', 'Não', 'Sim', 'Não', 'Não', 'Não', 'Sim',\n",
       "       'Sim', 'Sim', 'Sim', 'Sim', 'Não', 'Não', 'Sim', 'Sim', 'Sim',\n",
       "       'Sim', 'Sim', 'Não', 'Sim', 'Não', 'Sim', 'Sim', 'Sim', 'Sim',\n",
       "       'Sim', 'Sim', 'Sim', 'Sim', 'Sim', 'Não', 'Sim', 'Sim', 'Sim',\n",
       "       'Sim', 'Sim', 'Sim', 'Sim', 'Sim', 'Sim', 'Sim', 'Sim', 'Sim',\n",
       "       'Sim', 'Sim', 'Não', 'Sim', 'Não', 'Sim', 'Não', 'Sim', 'Sim',\n",
       "       'Sim', 'Sim', 'Sim', 'Não', 'Não', 'Sim', 'Sim', 'Não', 'Sim',\n",
       "       'Sim', 'Sim', 'Sim', 'Sim', 'Sim', 'Sim', 'Sim', 'Sim', 'Sim',\n",
       "       'Sim', 'Não', 'Sim', 'Sim', 'Sim', 'Sim', 'Sim', 'Não', 'Sim',\n",
       "       'Sim', 'Sim', 'Sim', 'Sim', 'Não', 'Não', 'Sim', 'Sim', 'Sim',\n",
       "       'Sim', 'Sim', 'Sim', 'Não', 'Sim', 'Sim', 'Sim', 'Não', 'Sim',\n",
       "       'Sim', 'Sim', 'Sim', 'Sim', 'Sim', 'Sim', 'Sim'], dtype=object)"
      ]
     },
     "execution_count": 198,
     "metadata": {},
     "output_type": "execute_result"
    }
   ],
   "source": [
    "previsoes = svm.predict(x_test)\n",
    "previsoes"
   ]
  },
  {
   "cell_type": "code",
   "execution_count": 199,
   "id": "446246d9-3841-4e4f-9be8-6a077e8b4ab4",
   "metadata": {},
   "outputs": [
    {
     "data": {
      "text/plain": [
       "993    Sim\n",
       "859    Não\n",
       "298    Sim\n",
       "553    Não\n",
       "672    Sim\n",
       "      ... \n",
       "462    Sim\n",
       "356    Sim\n",
       "2      Sim\n",
       "478    Sim\n",
       "695    Sim\n",
       "Name: segundo_encontro, Length: 250, dtype: object"
      ]
     },
     "execution_count": 199,
     "metadata": {},
     "output_type": "execute_result"
    }
   ],
   "source": [
    "y_test"
   ]
  },
  {
   "cell_type": "code",
   "execution_count": 200,
   "id": "6c1a5dc6-7c72-4af4-9f20-a574f4a92c20",
   "metadata": {},
   "outputs": [
    {
     "data": {
      "text/plain": [
       "0.996"
      ]
     },
     "execution_count": 200,
     "metadata": {},
     "output_type": "execute_result"
    },
    {
     "data": {
      "image/png": "[encoded data removed]",
      "text/plain": [
       "<Figure size 200x200 with 1 Axes>"
      ]
     },
     "metadata": {},
     "output_type": "display_data"
    }
   ],
   "source": [
    "from yellowbrick.classifier import ConfusionMatrix \n",
    "plt.figure(figsize=(2,2))\n",
    "cm = ConfusionMatrix(svm)\n",
    "cm.fit(x_train, y_train)\n",
    "cm.score(x_test, y_test)"
   ]
  },
  {
   "cell_type": "code",
   "execution_count": 209,
   "id": "6e6e135c-d2ad-4116-9bd5-3e158475bd28",
   "metadata": {},
   "outputs": [
    {
     "name": "stdin",
     "output_type": "stream",
     "text": [
      "Qual o tempo que durou a conversa?  120\n",
      "Quantas risadas vc deu?  30\n",
      "Quantos pontos em comum vcs tem?  10\n",
      "qual o nivel de timidez?  1\n",
      "Quantas mensagens vcs trocaram antes do encontro?  200\n",
      "Qual foi o nivel de iniciativa da conversa?  10\n",
      "Qual foi o local do encontro?  Restaurante\n",
      "Qual o momento da vida que vc se encontra?  Estável\n"
     ]
    },
    {
     "name": "stdout",
     "output_type": "stream",
     "text": [
      "\n",
      "==========================================================\n",
      "\n",
      "Parabéns você terá um segundo encontro!!\n",
      "\n",
      "==========================================================\n"
     ]
    },
    {
     "name": "stderr",
     "output_type": "stream",
     "text": [
      "C:\\Users\\iar1ct\\AppData\\Roaming\\Python\\Python312\\site-packages\\sklearn\\utils\\validation.py:2742: UserWarning:\n",
      "\n",
      "X has feature names, but SVC was fitted without feature names\n",
      "\n"
     ]
    }
   ],
   "source": [
    "tempo = input('Qual o tempo que durou a conversa? ')\n",
    "risada = input('Quantas risadas vc deu? ')\n",
    "comum = input('Quantos pontos em comum vcs tem? ')\n",
    "timidez = input('qual o nivel de timidez? ')\n",
    "mensagem = input('Quantas mensagens vcs trocaram antes do encontro? ')\n",
    "iniciativa = input('Qual foi o nivel de iniciativa da conversa? ')\n",
    "local = input('Qual foi o local do encontro? ')\n",
    "vida = input('Qual o momento da vida que vc se encontra? ')\n",
    "\n",
    "myDf = pd.DataFrame([[tempo, risada,comum,timidez,mensagem,iniciativa,local,vida]], \n",
    "             columns=['tempo_conversa_min', 'risadas', 'pontos_comuns',\t'nivel_timidez',\t'mensagens_antes', 'iniciativa_conversa', 'local_encontro', 'momento_da_vida'])\n",
    "\n",
    "myDf = hot.transform(myDf)\n",
    "myDf = pd.DataFrame(myDf, columns = hot.get_feature_names_out())\n",
    "myDf\n",
    "\n",
    "previsoes = svm.predict(myDf)\n",
    "print('\\n==========================================================\\n')\n",
    "if previsoes == \"Sim\":\n",
    "    print('Parabéns você terá um segundo encontro!!')\n",
    "else:\n",
    "    print('Você deu macada meu chapa, não vai rolar de novo não')\n",
    "\n",
    "print('\\n==========================================================')"
   ]
  }
 ],
 "metadata": {
  "kernelspec": {
   "display_name": "Python [conda env:base] *",
   "language": "python",
   "name": "conda-base-py"
  },
  "language_info": {
   "codemirror_mode": {
    "name": "ipython",
    "version": 3
   },
   "file_extension": ".py",
   "mimetype": "text/x-python",
   "name": "python",
   "nbconvert_exporter": "python",
   "pygments_lexer": "ipython3",
   "version": "3.12.9"
  }
 },
 "nbformat": 4,
 "nbformat_minor": 5
}
